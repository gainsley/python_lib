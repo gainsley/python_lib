{
 "metadata": {
  "name": "",
  "signature": "sha256:86b6cf666230846467ff182314e789d3b3694fc357f1531c10d1c0a926c5a255"
 },
 "nbformat": 3,
 "nbformat_minor": 0,
 "worksheets": [
  {
   "cells": [
    {
     "cell_type": "code",
     "collapsed": false,
     "input": [
      "class Tree:\n",
      "    def __init__( self, cargo, left=None, right=None):\n",
      "        self.cargo = cargo\n",
      "        self.left = left\n",
      "        self.right = right\n",
      "    \n",
      "    def __str__(self):\n",
      "        return str(self.cargo)\n",
      "    \n",
      "def print_tree( tree, l=0 ) :\n",
      "    if tree == None: return\n",
      "    print '-'*l, tree.cargo\n",
      "    print_tree( tree.left, l+1 )\n",
      "    print_tree( tree.right, l+1 )"
     ],
     "language": "python",
     "metadata": {},
     "outputs": [],
     "prompt_number": 15
    },
    {
     "cell_type": "code",
     "collapsed": false,
     "input": [
      "\n",
      "\n",
      "l1 = Tree(set('5'))\n",
      "r1 = Tree(\"gino\")\n",
      "\n",
      "l0 = Tree(2,l1,r1)\n",
      "r0 = Tree([1])\n",
      "\n",
      "tree =  Tree( 1, l0, r0)\n",
      "tree\n",
      "print_tree( tree )"
     ],
     "language": "python",
     "metadata": {},
     "outputs": [
      {
       "output_type": "stream",
       "stream": "stdout",
       "text": [
        " 1\n",
        "- 2\n",
        "-- set(['5'])\n",
        "-- gino\n",
        "- [1]\n"
       ]
      }
     ],
     "prompt_number": 24
    }
   ],
   "metadata": {}
  }
 ]
}